{
  "nbformat": 4,
  "nbformat_minor": 0,
  "metadata": {
    "colab": {
      "name": "Combined_Full_Text_Topic_Modelling.ipynb",
      "provenance": [],
      "collapsed_sections": [],
      "authorship_tag": "ABX9TyMut5Z5BMPRTZWJXWxDTKpn",
      "include_colab_link": true
    },
    "kernelspec": {
      "name": "python3",
      "display_name": "Python 3"
    }
  },
  "cells": [
    {
      "cell_type": "markdown",
      "metadata": {
        "id": "view-in-github",
        "colab_type": "text"
      },
      "source": [
        "<a href=\"https://colab.research.google.com/github/akshay8867/Refined_Code/blob/master/Combined_Full_Text_Topic_Modelling.ipynb\" target=\"_parent\"><img src=\"https://colab.research.google.com/assets/colab-badge.svg\" alt=\"Open In Colab\"/></a>"
      ]
    },
    {
      "cell_type": "markdown",
      "metadata": {
        "id": "nSBXONUvQA6R"
      },
      "source": [
        "# Data Available for \n",
        "- Water Resources Research \n",
        "- Water Resources Management\n",
        "- Sustainable Water Resources Management\n",
        "- Canadian Water Resources Journal\n",
        "- Journal of Water Resources Planning and Management\n",
        "- Water Environment Research\n",
        "- Integrated Environmental Assessment and Management\n",
        "\n",
        "# PDF Links not available for\n",
        "- Environmental Impact Assessment Review \n",
        "- Journal of Environmental Management\n",
        "- Water Research\n",
        "- Advances in Water Resources\n",
        "\n",
        "# Results not available from the elsapy api(Scopus API)\n",
        "- Environmental modelling and software\n",
        "- Journal of hydrology\n",
        "- Annual Review of Environment and Resources \n",
        "\n",
        "\n",
        "\n",
        "\n",
        "\n"
      ]
    },
    {
      "cell_type": "code",
      "metadata": {
        "id": "pWzQdUZedrj7"
      },
      "source": [
        "!pip install --upgrade gensim\n",
        "import os       #importing os to set environment variable\n",
        "def install_java():\n",
        "  !apt-get install -y openjdk-8-jdk-headless -qq > /dev/null      #install openjdk\n",
        "  os.environ[\"JAVA_HOME\"] = \"/usr/lib/jvm/java-8-openjdk-amd64\"     #set environment variable\n",
        "  !java -version       #check java version\n",
        "install_java()\n",
        "\n",
        "\n",
        "!wget http://mallet.cs.umass.edu/dist/mallet-2.0.8.zip\n",
        "!unzip mallet-2.0.8.zip\n",
        "os.environ['MALLET_HOME'] = '/content/mallet-2.0.8'\n",
        "mallet_path = '/content/mallet-2.0.8/bin/mallet'\n",
        "\n",
        "!pip install pyLDAvis\n",
        "!pip install nltk\n",
        "!pip install seaborn \n",
        "import seaborn as sns\n",
        "import gensim\n",
        "from collections import defaultdict\n",
        "gensim.__version__"
      ],
      "execution_count": null,
      "outputs": []
    },
    {
      "cell_type": "code",
      "metadata": {
        "colab": {
          "base_uri": "https://localhost:8080/"
        },
        "id": "6KefxSImdvwY",
        "outputId": "15b56d9b-85c5-4ca2-ed5c-def808a32c9d"
      },
      "source": [
        "from google.colab import drive # import drive from google colab\n",
        "\n",
        "ROOT = \"/content/drive\"     # default location for the drive\n",
        "print(ROOT)                 # print content of ROOT (Optional)\n",
        "\n",
        "drive.mount(ROOT)     "
      ],
      "execution_count": null,
      "outputs": [
        {
          "output_type": "stream",
          "text": [
            "/content/drive\n",
            "Mounted at /content/drive\n"
          ],
          "name": "stdout"
        }
      ]
    },
    {
      "cell_type": "code",
      "metadata": {
        "colab": {
          "base_uri": "https://localhost:8080/"
        },
        "id": "pzTc3dupeJAR",
        "outputId": "8ee9be73-9e35-49f0-99c9-6547339746b1"
      },
      "source": [
        "import re\n",
        "import numpy as np\n",
        "import pandas as pd\n",
        "from pprint import pprint\n",
        "import os\n",
        "import pickle\n",
        "\n",
        "# Gensim\n",
        "import gensim\n",
        "import gensim.corpora as corpora\n",
        "from gensim.utils import simple_preprocess\n",
        "from gensim.models import CoherenceModel,TfidfModel\n",
        "from gensim.corpora import Dictionary\n",
        "\n",
        "# spacy for lemmatization\n",
        "import spacy\n",
        "\n",
        "# Plotting tools\n",
        "import pyLDAvis\n",
        "import pyLDAvis.gensim  # don't skip this\n",
        "import matplotlib.pyplot as plt\n",
        "%matplotlib inline\n",
        "\n",
        "# Enable logging for gensim - optional\n",
        "import logging\n",
        "logging.basicConfig(format='%(asctime)s : %(levelname)s : %(message)s', level=logging.ERROR)\n",
        "\n",
        "import warnings\n",
        "warnings.filterwarnings(\"ignore\",category=DeprecationWarning)\n",
        "\n",
        "\n",
        "import nltk\n",
        "nltk.download('stopwords')\n",
        "\n",
        "from sklearn.model_selection import GridSearchCV\n",
        "\n",
        "from nltk.corpus import stopwords\n",
        "stop_words = stopwords.words('english')"
      ],
      "execution_count": null,
      "outputs": [
        {
          "output_type": "stream",
          "text": [
            "/usr/local/lib/python3.7/dist-packages/past/types/oldstr.py:5: DeprecationWarning: Using or importing the ABCs from 'collections' instead of from 'collections.abc' is deprecated since Python 3.3,and in 3.9 it will stop working\n",
            "  from collections import Iterable\n",
            "/usr/local/lib/python3.7/dist-packages/past/builtins/misc.py:4: DeprecationWarning: Using or importing the ABCs from 'collections' instead of from 'collections.abc' is deprecated since Python 3.3,and in 3.9 it will stop working\n",
            "  from collections import Mapping\n"
          ],
          "name": "stderr"
        },
        {
          "output_type": "stream",
          "text": [
            "[nltk_data] Downloading package stopwords to /root/nltk_data...\n",
            "[nltk_data]   Unzipping corpora/stopwords.zip.\n"
          ],
          "name": "stdout"
        }
      ]
    },
    {
      "cell_type": "code",
      "metadata": {
        "colab": {
          "base_uri": "https://localhost:8080/"
        },
        "id": "wrfGdS5keOJU",
        "outputId": "85837b7f-5b1e-4f20-ba3b-f0131f7d23be"
      },
      "source": [
        "import pickle\n",
        "lemma_path=r'/content/drive/MyDrive/Lemmatised_Text'\n",
        "lemma_text=[]\n",
        "for root,dir,files in os.walk(lemma_path,topdown=True):\n",
        "  for file in files[:1]:\n",
        "    print(os.path.join(root,file))\n",
        "    with open(os.path.join(root,file),'rb') as f:\n",
        "      dct=pickle.load(f)\n",
        "      lemma_text=lemma_text + list(dct.values())[0]\n",
        "      print(len(lemma_text))\n",
        "\n",
        "id2word=Dictionary()\n",
        "corpus=[id2word.doc2bow(doc,allow_update=True) for doc in lemma_text ]\n",
        "tfidf=TfidfModel(corpus,id2word,normalize=True)\n"
      ],
      "execution_count": null,
      "outputs": [
        {
          "output_type": "stream",
          "text": [
            "/content/drive/MyDrive/Lemmatised_Text/data_lemmatized_full_text_df1000.pkl.pkl\n",
            "1000\n"
          ],
          "name": "stdout"
        }
      ]
    },
    {
      "cell_type": "code",
      "metadata": {
        "id": "z83OAUvWeWGo"
      },
      "source": [
        "def cal_perc(a,perc):\n",
        "  return np.percentile(a,perc)\n",
        "\n",
        "import numpy as np\n",
        "a=[]\n",
        "for doc in corpus:\n",
        "  for id, value in tfidf[doc]:\n",
        "    a.append(value)\n"
      ],
      "execution_count": null,
      "outputs": []
    },
    {
      "cell_type": "code",
      "metadata": {
        "id": "FgpCqAUNeZrX"
      },
      "source": [
        "import concurrent.futures\n",
        "def tf_idf_filteration1(link):\n",
        "\n",
        "    global tfidf\n",
        "    global id2word\n",
        "    global corpus\n",
        "    words_omitted = []\n",
        "    finally_omitted_words = []\n",
        "    word_list = defaultdict(int)\n",
        "\n",
        "    bow = link[1]\n",
        "    # print(\"Original length:{}\".format(str(len(bow))))\n",
        "    low_value_words = []  # reinitialize to be safe. You can skip this.\n",
        "    tfidf_ids = [id for id, value in tfidf[bow] if value>link[2]]\n",
        "    # print(\"tfidf len:{}\".format(str(len(tfidf_ids))))\n",
        "    new_bow = [b for b in bow if b[0] in tfidf_ids ]\n",
        "    # print(\"New length:{}\".format(str(len(new_bow))))\n",
        "\n",
        "    corpus[link[0]] = new_bow\n",
        "\n",
        "    # print(\"New length reflected in corpus:{}\".format(str(len(corpus[link[0]]))))\n",
        "    return 1"
      ],
      "execution_count": null,
      "outputs": []
    },
    {
      "cell_type": "code",
      "metadata": {
        "id": "Wn5hQ82OedTp"
      },
      "source": [
        "def low_value_filter(perc,corpus):\n",
        "  global a\n",
        "  low_value=cal_perc(a,perc)\n",
        "  \n",
        "  corpus=[(k,doc,low_value) for k,doc in enumerate(corpus)]\n",
        "  print(corpus[0])\n",
        "  i=0\n",
        "  while i < len(corpus):\n",
        "      # print(i)\n",
        "      if i +100< len(corpus):\n",
        "          # print(\"hello\")\n",
        "          with concurrent.futures.ThreadPoolExecutor(100) as executor:\n",
        "              results = executor.map(tf_idf_filteration1, corpus[i:i + 100])\n",
        "          i=i+100\n",
        "      else:\n",
        "        # print(\"Entered else block\")\n",
        "        with concurrent.futures.ThreadPoolExecutor(100) as executor:\n",
        "              results = executor.map(tf_idf_filteration1, corpus[i:])\n",
        "        i=i+100\n",
        "        break\n",
        "  \n"
      ],
      "execution_count": null,
      "outputs": []
    },
    {
      "cell_type": "code",
      "metadata": {
        "id": "CXjFWQsweiLR"
      },
      "source": [
        "import time\n",
        "import shutil\n",
        "\n",
        "def topic_model(num_topics,corpus,id2word,lemma_text,perc,mallet_path):\n",
        "  try:\n",
        "  \n",
        "    t1=time.perf_counter()\n",
        "    print(\"Original Length:{}\".format(str(len(corpus[0]))))\n",
        "    low_value_filter(perc,corpus)\n",
        "    print(\"New Length:{}\".format(str(len(corpus[0]))))\n",
        "    print(\"Corpus Updated\")\n",
        "    model = gensim.models.wrappers.LdaMallet(mallet_path, \n",
        "                                                  corpus=corpus, \n",
        "                                                  num_topics=num_topics, \n",
        "                                                  id2word=id2word,\n",
        "                                                  random_seed=10,\n",
        "                                                  optimize_interval=100,\n",
        "                                                  iterations=1000)\n",
        "\n",
        "    print(\"Model has been created\")\n",
        "    parent_dir=r'/content/drive/MyDrive/Full_text_topic'\n",
        "    child_dir=\"Perc{}Topics{}\".format(str(perc),str(num_topics))\n",
        "    if os.path.exists(os.path.join(parent_dir,child_dir)):\n",
        "      shutil.rmtree(os.path.join(parent_dir,child_dir))\n",
        "      print(\"Directory has been deleted\")\n",
        "\n",
        "    if not os.path.exists(os.path.join(parent_dir,child_dir)):\n",
        "        os.makedirs(os.path.join(parent_dir,child_dir))\n",
        "        print(\"Directory has been created\")\n",
        "\n",
        "    final_path=os.path.join(parent_dir,child_dir)\n",
        "    with open(os.path.join(final_path,\"{}.pkl\".format(str(num_topics))),'wb') as f :\n",
        "      pickle.dump(model,f)\n",
        "\n",
        "    with open(model.ftopickeys(),'r') as f:\n",
        "      with open(os.path.join(final_path,\"{}topickeys.txt\".format(str(num_topics))),'w') as m:\n",
        "        m.write(f.read())\n",
        "    cv_val=['c_npmi','c_v','c_uci','u_mass']\n",
        "    coherence_values=[] \n",
        "\n",
        "    with open(os.path.join(final_path,\"{}coherenceval.txt\".format(str(num_topics))),'w') as m:\n",
        "      for coherence in cv_val:\n",
        "        print(coherence)\n",
        "        coherencemodel = CoherenceModel(model=model, texts=lemma_text, dictionary=id2word, coherence=coherence)\n",
        "        coherence_values.append(coherencemodel.get_coherence())\n",
        "        m.write(\"{}:{}\\n\".format(coherence,str(coherencemodel.get_coherence())))\n",
        "\n",
        "    t2=time.perf_counter()\n",
        "    print(\"Ended in {} minutes\".format(str((t2-t1)/60)))\n",
        "    return 1\n",
        "  except Exception as e:\n",
        "    print(\"Exception occured:{}\".format(e))\n",
        "    return 0"
      ],
      "execution_count": null,
      "outputs": []
    },
    {
      "cell_type": "markdown",
      "metadata": {
        "id": "QrERqAUq8xlh"
      },
      "source": [
        "# **Code block to run experiments**\n",
        "- perc_values=[85,90,95]\n",
        "- topicno=[10,15,20,25]\n"
      ]
    },
    {
      "cell_type": "code",
      "metadata": {
        "id": "vK8gAVdBelre"
      },
      "source": [
        "perc_values=[75,95]\n",
        "topicno=[10]\n",
        "result_list=[]\n",
        "os.environ['MALLET_HOME'] = '/content/mallet-2.0.8'\n",
        "for perc in perc_values:\n",
        "  print(perc)\n",
        "  for num_topics in topicno:\n",
        "    \n",
        "    mallet_path = '/content/mallet-2.0.8/bin/mallet'\n",
        "    corpus=[id2word.doc2bow(doc,allow_update=True) for doc in lemma_text ]\n",
        "    result_list.append(topic_model(num_topics,corpus,id2word,lemma_text,perc,mallet_path))\n",
        "    print(\"{} completed\".format(str(num_topics)))\n"
      ],
      "execution_count": null,
      "outputs": []
    },
    {
      "cell_type": "code",
      "metadata": {
        "colab": {
          "base_uri": "https://localhost:8080/"
        },
        "id": "vseJ8kl4MDYa",
        "outputId": "ab868a97-d24b-45ec-b6bb-d176274765c0"
      },
      "source": [
        "topic_path=r'/content/drive/MyDrive/Full_text_topic'\n",
        "dir_components={}\n",
        "\n",
        "\n",
        "for root,dirs,files in os.walk(topic_path,topdown=True):\n",
        "  for dir in dirs:\n",
        "    file_components=[]\n",
        "    if \"Perc\" in dir:\n",
        "      for root1,dir1,files1 in os.walk(os.path.join(root,dir)):\n",
        "        print(root1.split(\"/\")[-1])\n",
        "        for file in files1:\n",
        "          print(os.path.join(root1,file))\n",
        "          file_components.append(os.path.join(root1,file))\n",
        "      dir_components[root1.split(\"/\")[-1]]=file_components\n",
        "\n",
        "        # print()"
      ],
      "execution_count": null,
      "outputs": [
        {
          "output_type": "stream",
          "text": [
            "Perc85Topics10\n",
            "/content/drive/MyDrive/Full_text_topic/Perc85Topics10/10.pkl\n",
            "/content/drive/MyDrive/Full_text_topic/Perc85Topics10/10topickeys.txt\n",
            "/content/drive/MyDrive/Full_text_topic/Perc85Topics10/10coherenceval.txt\n",
            "Perc85Topics15\n",
            "/content/drive/MyDrive/Full_text_topic/Perc85Topics15/15.pkl\n",
            "/content/drive/MyDrive/Full_text_topic/Perc85Topics15/15topickeys.txt\n",
            "/content/drive/MyDrive/Full_text_topic/Perc85Topics15/15coherenceval.txt\n",
            "Perc85Topics20\n",
            "/content/drive/MyDrive/Full_text_topic/Perc85Topics20/20.pkl\n",
            "/content/drive/MyDrive/Full_text_topic/Perc85Topics20/20topickeys.txt\n",
            "/content/drive/MyDrive/Full_text_topic/Perc85Topics20/20coherenceval.txt\n",
            "Perc85Topics25\n",
            "/content/drive/MyDrive/Full_text_topic/Perc85Topics25/25.pkl\n",
            "/content/drive/MyDrive/Full_text_topic/Perc85Topics25/25topickeys.txt\n",
            "/content/drive/MyDrive/Full_text_topic/Perc85Topics25/25coherenceval.txt\n",
            "Perc90Topics10\n",
            "/content/drive/MyDrive/Full_text_topic/Perc90Topics10/10.pkl\n",
            "/content/drive/MyDrive/Full_text_topic/Perc90Topics10/10topickeys.txt\n",
            "/content/drive/MyDrive/Full_text_topic/Perc90Topics10/10coherenceval.txt\n",
            "Perc90Topics15\n",
            "/content/drive/MyDrive/Full_text_topic/Perc90Topics15/15.pkl\n",
            "/content/drive/MyDrive/Full_text_topic/Perc90Topics15/15topickeys.txt\n",
            "/content/drive/MyDrive/Full_text_topic/Perc90Topics15/15coherenceval.txt\n",
            "Perc90Topics20\n",
            "/content/drive/MyDrive/Full_text_topic/Perc90Topics20/20.pkl\n",
            "/content/drive/MyDrive/Full_text_topic/Perc90Topics20/20topickeys.txt\n",
            "/content/drive/MyDrive/Full_text_topic/Perc90Topics20/20coherenceval.txt\n",
            "Perc90Topics25\n",
            "/content/drive/MyDrive/Full_text_topic/Perc90Topics25/25.pkl\n",
            "/content/drive/MyDrive/Full_text_topic/Perc90Topics25/25topickeys.txt\n",
            "/content/drive/MyDrive/Full_text_topic/Perc90Topics25/25coherenceval.txt\n",
            "Perc95Topics20\n",
            "/content/drive/MyDrive/Full_text_topic/Perc95Topics20/20.pkl\n",
            "/content/drive/MyDrive/Full_text_topic/Perc95Topics20/20topickeys.txt\n",
            "/content/drive/MyDrive/Full_text_topic/Perc95Topics20/20coherenceval.txt\n",
            "Perc95Topics25\n",
            "/content/drive/MyDrive/Full_text_topic/Perc95Topics25/25.pkl\n",
            "/content/drive/MyDrive/Full_text_topic/Perc95Topics25/25topickeys.txt\n",
            "/content/drive/MyDrive/Full_text_topic/Perc95Topics25/25coherenceval.txt\n",
            "Perc95Topics10\n",
            "/content/drive/MyDrive/Full_text_topic/Perc95Topics10/10.pkl\n",
            "/content/drive/MyDrive/Full_text_topic/Perc95Topics10/10topickeys.txt\n",
            "/content/drive/MyDrive/Full_text_topic/Perc95Topics10/10coherenceval.txt\n",
            "Perc95Topics15\n",
            "/content/drive/MyDrive/Full_text_topic/Perc95Topics15/15.pkl\n",
            "/content/drive/MyDrive/Full_text_topic/Perc95Topics15/15topickeys.txt\n",
            "/content/drive/MyDrive/Full_text_topic/Perc95Topics15/15coherenceval.txt\n"
          ],
          "name": "stdout"
        }
      ]
    },
    {
      "cell_type": "code",
      "metadata": {
        "colab": {
          "base_uri": "https://localhost:8080/",
          "height": 1000
        },
        "id": "vc2RnlhvMWn6",
        "outputId": "35a81ef5-88b2-4a1d-c170-65d4da299b1b"
      },
      "source": [
        "coherence_df=pd.DataFrame(columns=['Combination','Coherence Type','Coherence Value'])\n",
        "\n",
        "for k,v in dir_components.items():\n",
        "  print(k)\n",
        "  with open(v[-1],'r') as f:\n",
        "    for line in f.readlines():\n",
        "      print(line.split(\":\")[0])\n",
        "      print(line.split(\":\")[1][:-1])\n",
        "      df_=pd.DataFrame([{'Combination':k,'Coherence Type':line.split(\":\")[0]\n",
        "                         ,'Coherence Value':float(line.split(\":\")[1][:-1])}])\n",
        "      coherence_df=pd.concat([coherence_df,df_])\n",
        "coherence_df.reset_index(drop=True,inplace=True)\n",
        "coherence_df      "
      ],
      "execution_count": null,
      "outputs": [
        {
          "output_type": "stream",
          "text": [
            "Perc85Topics10\n",
            "c_npmi\n",
            "0.06560897065604875\n",
            "c_v\n",
            "0.5620341952661617\n",
            "c_uci\n",
            "0.5362399943349272\n",
            "u_mass\n",
            "-0.9470556154025326\n",
            "Perc85Topics15\n",
            "c_npmi\n",
            "0.0668691918797484\n",
            "c_v\n",
            "0.5634572865894328\n",
            "c_uci\n",
            "0.5675227545403314\n",
            "u_mass\n",
            "-0.9589737802904278\n",
            "Perc85Topics20\n",
            "c_npmi\n",
            "0.06854457119382806\n",
            "c_v\n",
            "0.5610632988763722\n",
            "c_uci\n",
            "0.6037133784237277\n",
            "u_mass\n",
            "-1.0477956818566876\n",
            "Perc85Topics25\n",
            "c_npmi\n",
            "0.073827230428606\n",
            "c_v\n",
            "0.5798671549646592\n",
            "c_uci\n",
            "0.6684332293644583\n",
            "u_mass\n",
            "-1.1089972771742376\n",
            "Perc90Topics10\n",
            "c_npmi\n",
            "0.024246494553987308\n",
            "c_v\n",
            "0.3962455925484992\n",
            "c_uci\n",
            "0.17446768750449762\n",
            "u_mass\n",
            "-0.44907838322306953\n",
            "Perc90Topics15\n",
            "c_npmi\n",
            "0.024588925112723037\n",
            "c_v\n",
            "0.3998168289829776\n",
            "c_uci\n",
            "0.18300789905148515\n",
            "u_mass\n",
            "-0.456276308104757\n",
            "Perc90Topics20\n",
            "c_npmi\n",
            "0.0774765109890148\n",
            "c_v\n",
            "0.5888803708511676\n",
            "c_uci\n",
            "0.6933697990260848\n",
            "u_mass\n",
            "-1.1324503171043314\n",
            "Perc90Topics25\n",
            "c_npmi\n",
            "0.07235917339634672\n",
            "c_v\n",
            "0.5705150002568086\n",
            "c_uci\n",
            "0.6557449476427224\n",
            "u_mass\n",
            "-1.1971698494628058\n",
            "Perc95Topics20\n",
            "c_npmi\n",
            "0.06946548932206574\n",
            "c_v\n",
            "0.5654504858793172\n",
            "c_uci\n",
            "0.6225832262632449\n",
            "u_mass\n",
            "-1.2971890306755367\n",
            "Perc95Topics25\n",
            "c_npmi\n",
            "0.07099177287500147\n",
            "c_v\n",
            "0.5647663213714083\n",
            "c_uci\n",
            "0.6593642300884258\n",
            "u_mass\n",
            "-1.4160532097225516\n",
            "Perc95Topics10\n",
            "c_npmi\n",
            "0.0588444068939062\n",
            "c_v\n",
            "0.5443880319929277\n",
            "c_uci\n",
            "0.49354908647985746\n",
            "u_mass\n",
            "-1.1109862089709186\n",
            "Perc95Topics15\n",
            "c_npmi\n",
            "0.0641889490638806\n",
            "c_v\n",
            "0.5554335343833565\n",
            "c_uci\n",
            "0.5645047522712645\n",
            "u_mass\n",
            "-1.2250278816551545\n"
          ],
          "name": "stdout"
        },
        {
          "output_type": "execute_result",
          "data": {
            "text/html": [
              "<div>\n",
              "<style scoped>\n",
              "    .dataframe tbody tr th:only-of-type {\n",
              "        vertical-align: middle;\n",
              "    }\n",
              "\n",
              "    .dataframe tbody tr th {\n",
              "        vertical-align: top;\n",
              "    }\n",
              "\n",
              "    .dataframe thead th {\n",
              "        text-align: right;\n",
              "    }\n",
              "</style>\n",
              "<table border=\"1\" class=\"dataframe\">\n",
              "  <thead>\n",
              "    <tr style=\"text-align: right;\">\n",
              "      <th></th>\n",
              "      <th>Combination</th>\n",
              "      <th>Coherence Type</th>\n",
              "      <th>Coherence Value</th>\n",
              "    </tr>\n",
              "  </thead>\n",
              "  <tbody>\n",
              "    <tr>\n",
              "      <th>0</th>\n",
              "      <td>Perc85Topics10</td>\n",
              "      <td>c_npmi</td>\n",
              "      <td>0.065609</td>\n",
              "    </tr>\n",
              "    <tr>\n",
              "      <th>1</th>\n",
              "      <td>Perc85Topics10</td>\n",
              "      <td>c_v</td>\n",
              "      <td>0.562034</td>\n",
              "    </tr>\n",
              "    <tr>\n",
              "      <th>2</th>\n",
              "      <td>Perc85Topics10</td>\n",
              "      <td>c_uci</td>\n",
              "      <td>0.536240</td>\n",
              "    </tr>\n",
              "    <tr>\n",
              "      <th>3</th>\n",
              "      <td>Perc85Topics10</td>\n",
              "      <td>u_mass</td>\n",
              "      <td>-0.947056</td>\n",
              "    </tr>\n",
              "    <tr>\n",
              "      <th>4</th>\n",
              "      <td>Perc85Topics15</td>\n",
              "      <td>c_npmi</td>\n",
              "      <td>0.066869</td>\n",
              "    </tr>\n",
              "    <tr>\n",
              "      <th>5</th>\n",
              "      <td>Perc85Topics15</td>\n",
              "      <td>c_v</td>\n",
              "      <td>0.563457</td>\n",
              "    </tr>\n",
              "    <tr>\n",
              "      <th>6</th>\n",
              "      <td>Perc85Topics15</td>\n",
              "      <td>c_uci</td>\n",
              "      <td>0.567523</td>\n",
              "    </tr>\n",
              "    <tr>\n",
              "      <th>7</th>\n",
              "      <td>Perc85Topics15</td>\n",
              "      <td>u_mass</td>\n",
              "      <td>-0.958974</td>\n",
              "    </tr>\n",
              "    <tr>\n",
              "      <th>8</th>\n",
              "      <td>Perc85Topics20</td>\n",
              "      <td>c_npmi</td>\n",
              "      <td>0.068545</td>\n",
              "    </tr>\n",
              "    <tr>\n",
              "      <th>9</th>\n",
              "      <td>Perc85Topics20</td>\n",
              "      <td>c_v</td>\n",
              "      <td>0.561063</td>\n",
              "    </tr>\n",
              "    <tr>\n",
              "      <th>10</th>\n",
              "      <td>Perc85Topics20</td>\n",
              "      <td>c_uci</td>\n",
              "      <td>0.603713</td>\n",
              "    </tr>\n",
              "    <tr>\n",
              "      <th>11</th>\n",
              "      <td>Perc85Topics20</td>\n",
              "      <td>u_mass</td>\n",
              "      <td>-1.047796</td>\n",
              "    </tr>\n",
              "    <tr>\n",
              "      <th>12</th>\n",
              "      <td>Perc85Topics25</td>\n",
              "      <td>c_npmi</td>\n",
              "      <td>0.073827</td>\n",
              "    </tr>\n",
              "    <tr>\n",
              "      <th>13</th>\n",
              "      <td>Perc85Topics25</td>\n",
              "      <td>c_v</td>\n",
              "      <td>0.579867</td>\n",
              "    </tr>\n",
              "    <tr>\n",
              "      <th>14</th>\n",
              "      <td>Perc85Topics25</td>\n",
              "      <td>c_uci</td>\n",
              "      <td>0.668433</td>\n",
              "    </tr>\n",
              "    <tr>\n",
              "      <th>15</th>\n",
              "      <td>Perc85Topics25</td>\n",
              "      <td>u_mass</td>\n",
              "      <td>-1.108997</td>\n",
              "    </tr>\n",
              "    <tr>\n",
              "      <th>16</th>\n",
              "      <td>Perc90Topics10</td>\n",
              "      <td>c_npmi</td>\n",
              "      <td>0.024246</td>\n",
              "    </tr>\n",
              "    <tr>\n",
              "      <th>17</th>\n",
              "      <td>Perc90Topics10</td>\n",
              "      <td>c_v</td>\n",
              "      <td>0.396246</td>\n",
              "    </tr>\n",
              "    <tr>\n",
              "      <th>18</th>\n",
              "      <td>Perc90Topics10</td>\n",
              "      <td>c_uci</td>\n",
              "      <td>0.174468</td>\n",
              "    </tr>\n",
              "    <tr>\n",
              "      <th>19</th>\n",
              "      <td>Perc90Topics10</td>\n",
              "      <td>u_mass</td>\n",
              "      <td>-0.449078</td>\n",
              "    </tr>\n",
              "    <tr>\n",
              "      <th>20</th>\n",
              "      <td>Perc90Topics15</td>\n",
              "      <td>c_npmi</td>\n",
              "      <td>0.024589</td>\n",
              "    </tr>\n",
              "    <tr>\n",
              "      <th>21</th>\n",
              "      <td>Perc90Topics15</td>\n",
              "      <td>c_v</td>\n",
              "      <td>0.399817</td>\n",
              "    </tr>\n",
              "    <tr>\n",
              "      <th>22</th>\n",
              "      <td>Perc90Topics15</td>\n",
              "      <td>c_uci</td>\n",
              "      <td>0.183008</td>\n",
              "    </tr>\n",
              "    <tr>\n",
              "      <th>23</th>\n",
              "      <td>Perc90Topics15</td>\n",
              "      <td>u_mass</td>\n",
              "      <td>-0.456276</td>\n",
              "    </tr>\n",
              "    <tr>\n",
              "      <th>24</th>\n",
              "      <td>Perc90Topics20</td>\n",
              "      <td>c_npmi</td>\n",
              "      <td>0.077477</td>\n",
              "    </tr>\n",
              "    <tr>\n",
              "      <th>25</th>\n",
              "      <td>Perc90Topics20</td>\n",
              "      <td>c_v</td>\n",
              "      <td>0.588880</td>\n",
              "    </tr>\n",
              "    <tr>\n",
              "      <th>26</th>\n",
              "      <td>Perc90Topics20</td>\n",
              "      <td>c_uci</td>\n",
              "      <td>0.693370</td>\n",
              "    </tr>\n",
              "    <tr>\n",
              "      <th>27</th>\n",
              "      <td>Perc90Topics20</td>\n",
              "      <td>u_mass</td>\n",
              "      <td>-1.132450</td>\n",
              "    </tr>\n",
              "    <tr>\n",
              "      <th>28</th>\n",
              "      <td>Perc90Topics25</td>\n",
              "      <td>c_npmi</td>\n",
              "      <td>0.072359</td>\n",
              "    </tr>\n",
              "    <tr>\n",
              "      <th>29</th>\n",
              "      <td>Perc90Topics25</td>\n",
              "      <td>c_v</td>\n",
              "      <td>0.570515</td>\n",
              "    </tr>\n",
              "    <tr>\n",
              "      <th>30</th>\n",
              "      <td>Perc90Topics25</td>\n",
              "      <td>c_uci</td>\n",
              "      <td>0.655745</td>\n",
              "    </tr>\n",
              "    <tr>\n",
              "      <th>31</th>\n",
              "      <td>Perc90Topics25</td>\n",
              "      <td>u_mass</td>\n",
              "      <td>-1.197170</td>\n",
              "    </tr>\n",
              "    <tr>\n",
              "      <th>32</th>\n",
              "      <td>Perc95Topics20</td>\n",
              "      <td>c_npmi</td>\n",
              "      <td>0.069465</td>\n",
              "    </tr>\n",
              "    <tr>\n",
              "      <th>33</th>\n",
              "      <td>Perc95Topics20</td>\n",
              "      <td>c_v</td>\n",
              "      <td>0.565450</td>\n",
              "    </tr>\n",
              "    <tr>\n",
              "      <th>34</th>\n",
              "      <td>Perc95Topics20</td>\n",
              "      <td>c_uci</td>\n",
              "      <td>0.622583</td>\n",
              "    </tr>\n",
              "    <tr>\n",
              "      <th>35</th>\n",
              "      <td>Perc95Topics20</td>\n",
              "      <td>u_mass</td>\n",
              "      <td>-1.297189</td>\n",
              "    </tr>\n",
              "    <tr>\n",
              "      <th>36</th>\n",
              "      <td>Perc95Topics25</td>\n",
              "      <td>c_npmi</td>\n",
              "      <td>0.070992</td>\n",
              "    </tr>\n",
              "    <tr>\n",
              "      <th>37</th>\n",
              "      <td>Perc95Topics25</td>\n",
              "      <td>c_v</td>\n",
              "      <td>0.564766</td>\n",
              "    </tr>\n",
              "    <tr>\n",
              "      <th>38</th>\n",
              "      <td>Perc95Topics25</td>\n",
              "      <td>c_uci</td>\n",
              "      <td>0.659364</td>\n",
              "    </tr>\n",
              "    <tr>\n",
              "      <th>39</th>\n",
              "      <td>Perc95Topics25</td>\n",
              "      <td>u_mass</td>\n",
              "      <td>-1.416053</td>\n",
              "    </tr>\n",
              "    <tr>\n",
              "      <th>40</th>\n",
              "      <td>Perc95Topics10</td>\n",
              "      <td>c_npmi</td>\n",
              "      <td>0.058844</td>\n",
              "    </tr>\n",
              "    <tr>\n",
              "      <th>41</th>\n",
              "      <td>Perc95Topics10</td>\n",
              "      <td>c_v</td>\n",
              "      <td>0.544388</td>\n",
              "    </tr>\n",
              "    <tr>\n",
              "      <th>42</th>\n",
              "      <td>Perc95Topics10</td>\n",
              "      <td>c_uci</td>\n",
              "      <td>0.493549</td>\n",
              "    </tr>\n",
              "    <tr>\n",
              "      <th>43</th>\n",
              "      <td>Perc95Topics10</td>\n",
              "      <td>u_mass</td>\n",
              "      <td>-1.110986</td>\n",
              "    </tr>\n",
              "    <tr>\n",
              "      <th>44</th>\n",
              "      <td>Perc95Topics15</td>\n",
              "      <td>c_npmi</td>\n",
              "      <td>0.064189</td>\n",
              "    </tr>\n",
              "    <tr>\n",
              "      <th>45</th>\n",
              "      <td>Perc95Topics15</td>\n",
              "      <td>c_v</td>\n",
              "      <td>0.555434</td>\n",
              "    </tr>\n",
              "    <tr>\n",
              "      <th>46</th>\n",
              "      <td>Perc95Topics15</td>\n",
              "      <td>c_uci</td>\n",
              "      <td>0.564505</td>\n",
              "    </tr>\n",
              "    <tr>\n",
              "      <th>47</th>\n",
              "      <td>Perc95Topics15</td>\n",
              "      <td>u_mass</td>\n",
              "      <td>-1.225028</td>\n",
              "    </tr>\n",
              "  </tbody>\n",
              "</table>\n",
              "</div>"
            ],
            "text/plain": [
              "       Combination Coherence Type  Coherence Value\n",
              "0   Perc85Topics10         c_npmi         0.065609\n",
              "1   Perc85Topics10            c_v         0.562034\n",
              "2   Perc85Topics10          c_uci         0.536240\n",
              "3   Perc85Topics10         u_mass        -0.947056\n",
              "4   Perc85Topics15         c_npmi         0.066869\n",
              "5   Perc85Topics15            c_v         0.563457\n",
              "6   Perc85Topics15          c_uci         0.567523\n",
              "7   Perc85Topics15         u_mass        -0.958974\n",
              "8   Perc85Topics20         c_npmi         0.068545\n",
              "9   Perc85Topics20            c_v         0.561063\n",
              "10  Perc85Topics20          c_uci         0.603713\n",
              "11  Perc85Topics20         u_mass        -1.047796\n",
              "12  Perc85Topics25         c_npmi         0.073827\n",
              "13  Perc85Topics25            c_v         0.579867\n",
              "14  Perc85Topics25          c_uci         0.668433\n",
              "15  Perc85Topics25         u_mass        -1.108997\n",
              "16  Perc90Topics10         c_npmi         0.024246\n",
              "17  Perc90Topics10            c_v         0.396246\n",
              "18  Perc90Topics10          c_uci         0.174468\n",
              "19  Perc90Topics10         u_mass        -0.449078\n",
              "20  Perc90Topics15         c_npmi         0.024589\n",
              "21  Perc90Topics15            c_v         0.399817\n",
              "22  Perc90Topics15          c_uci         0.183008\n",
              "23  Perc90Topics15         u_mass        -0.456276\n",
              "24  Perc90Topics20         c_npmi         0.077477\n",
              "25  Perc90Topics20            c_v         0.588880\n",
              "26  Perc90Topics20          c_uci         0.693370\n",
              "27  Perc90Topics20         u_mass        -1.132450\n",
              "28  Perc90Topics25         c_npmi         0.072359\n",
              "29  Perc90Topics25            c_v         0.570515\n",
              "30  Perc90Topics25          c_uci         0.655745\n",
              "31  Perc90Topics25         u_mass        -1.197170\n",
              "32  Perc95Topics20         c_npmi         0.069465\n",
              "33  Perc95Topics20            c_v         0.565450\n",
              "34  Perc95Topics20          c_uci         0.622583\n",
              "35  Perc95Topics20         u_mass        -1.297189\n",
              "36  Perc95Topics25         c_npmi         0.070992\n",
              "37  Perc95Topics25            c_v         0.564766\n",
              "38  Perc95Topics25          c_uci         0.659364\n",
              "39  Perc95Topics25         u_mass        -1.416053\n",
              "40  Perc95Topics10         c_npmi         0.058844\n",
              "41  Perc95Topics10            c_v         0.544388\n",
              "42  Perc95Topics10          c_uci         0.493549\n",
              "43  Perc95Topics10         u_mass        -1.110986\n",
              "44  Perc95Topics15         c_npmi         0.064189\n",
              "45  Perc95Topics15            c_v         0.555434\n",
              "46  Perc95Topics15          c_uci         0.564505\n",
              "47  Perc95Topics15         u_mass        -1.225028"
            ]
          },
          "metadata": {
            "tags": []
          },
          "execution_count": 26
        }
      ]
    },
    {
      "cell_type": "markdown",
      "metadata": {
        "id": "jg5MzQ_cP35e"
      },
      "source": [
        "# **Comparing the coherence of different models**"
      ]
    },
    {
      "cell_type": "code",
      "metadata": {
        "colab": {
          "base_uri": "https://localhost:8080/"
        },
        "id": "tdD_wVazWyh3",
        "outputId": "abf26483-b96b-4fe9-8752-d91078b540b9"
      },
      "source": [
        "list(pd.unique(coherence_df['Coherence Type']))"
      ],
      "execution_count": null,
      "outputs": [
        {
          "output_type": "execute_result",
          "data": {
            "text/plain": [
              "['c_npmi', 'c_v', 'c_uci', 'u_mass']"
            ]
          },
          "metadata": {
            "tags": []
          },
          "execution_count": 43
        }
      ]
    },
    {
      "cell_type": "markdown",
      "metadata": {
        "id": "fzw641-MWy8Z"
      },
      "source": [
        "# **Plotting for C_V**"
      ]
    },
    {
      "cell_type": "code",
      "metadata": {
        "colab": {
          "base_uri": "https://localhost:8080/",
          "height": 339
        },
        "id": "SgXzVi_TP2yH",
        "outputId": "1256880e-b386-424f-bb7a-afe7129538e6"
      },
      "source": [
        "test_df_cv=coherence_df[coherence_df['Coherence Type']=='c_v'].reset_index(drop=True)\n",
        "test_df_cv.reset_index(drop=False,inplace=True)\n",
        "test_df_cv.plot(x='index',y='Coherence Value')\n",
        "test_df_cv[test_df_cv['Coherence Value']==test_df_cv['Coherence Value'].max()]\n"
      ],
      "execution_count": null,
      "outputs": [
        {
          "output_type": "execute_result",
          "data": {
            "text/html": [
              "<div>\n",
              "<style scoped>\n",
              "    .dataframe tbody tr th:only-of-type {\n",
              "        vertical-align: middle;\n",
              "    }\n",
              "\n",
              "    .dataframe tbody tr th {\n",
              "        vertical-align: top;\n",
              "    }\n",
              "\n",
              "    .dataframe thead th {\n",
              "        text-align: right;\n",
              "    }\n",
              "</style>\n",
              "<table border=\"1\" class=\"dataframe\">\n",
              "  <thead>\n",
              "    <tr style=\"text-align: right;\">\n",
              "      <th></th>\n",
              "      <th>index</th>\n",
              "      <th>Combination</th>\n",
              "      <th>Coherence Type</th>\n",
              "      <th>Coherence Value</th>\n",
              "    </tr>\n",
              "  </thead>\n",
              "  <tbody>\n",
              "    <tr>\n",
              "      <th>6</th>\n",
              "      <td>6</td>\n",
              "      <td>Perc90Topics20</td>\n",
              "      <td>c_v</td>\n",
              "      <td>0.58888</td>\n",
              "    </tr>\n",
              "  </tbody>\n",
              "</table>\n",
              "</div>"
            ],
            "text/plain": [
              "   index     Combination Coherence Type  Coherence Value\n",
              "6      6  Perc90Topics20            c_v          0.58888"
            ]
          },
          "metadata": {
            "tags": []
          },
          "execution_count": 42
        },
        {
          "output_type": "display_data",
          "data": {
            "image/png": "[encoded data removed]",
            "text/plain": [
              "<Figure size 432x288 with 1 Axes>"
            ]
          },
          "metadata": {
            "tags": [],
            "needs_background": "light"
          }
        }
      ]
    },
    {
      "cell_type": "markdown",
      "metadata": {
        "id": "z5ur5LwrXr1Q"
      },
      "source": [
        "# **Plotting for C_NPMI**"
      ]
    },
    {
      "cell_type": "code",
      "metadata": {
        "colab": {
          "base_uri": "https://localhost:8080/",
          "height": 343
        },
        "id": "ZC7mQ_V2WSVF",
        "outputId": "e64ad03f-335d-4fc9-afdb-b1c2f12ac993"
      },
      "source": [
        "test_df_c_npmi=coherence_df[coherence_df['Coherence Type']=='c_npmi'].reset_index(drop=True)\n",
        "test_df_c_npmi.reset_index(drop=False,inplace=True)\n",
        "test_df_c_npmi.plot(x='index',y='Coherence Value')\n",
        "test_df_c_npmi[test_df_c_npmi['Coherence Value']==test_df_c_npmi['Coherence Value'].max()]"
      ],
      "execution_count": null,
      "outputs": [
        {
          "output_type": "execute_result",
          "data": {
            "text/html": [
              "<div>\n",
              "<style scoped>\n",
              "    .dataframe tbody tr th:only-of-type {\n",
              "        vertical-align: middle;\n",
              "    }\n",
              "\n",
              "    .dataframe tbody tr th {\n",
              "        vertical-align: top;\n",
              "    }\n",
              "\n",
              "    .dataframe thead th {\n",
              "        text-align: right;\n",
              "    }\n",
              "</style>\n",
              "<table border=\"1\" class=\"dataframe\">\n",
              "  <thead>\n",
              "    <tr style=\"text-align: right;\">\n",
              "      <th></th>\n",
              "      <th>index</th>\n",
              "      <th>Combination</th>\n",
              "      <th>Coherence Type</th>\n",
              "      <th>Coherence Value</th>\n",
              "    </tr>\n",
              "  </thead>\n",
              "  <tbody>\n",
              "    <tr>\n",
              "      <th>6</th>\n",
              "      <td>6</td>\n",
              "      <td>Perc90Topics20</td>\n",
              "      <td>c_npmi</td>\n",
              "      <td>0.077477</td>\n",
              "    </tr>\n",
              "  </tbody>\n",
              "</table>\n",
              "</div>"
            ],
            "text/plain": [
              "   index     Combination Coherence Type  Coherence Value\n",
              "6      6  Perc90Topics20         c_npmi         0.077477"
            ]
          },
          "metadata": {
            "tags": []
          },
          "execution_count": 44
        },
        {
          "output_type": "display_data",
          "data": {
            "image/png": "[encoded data removed]",
            "text/plain": [
              "<Figure size 432x288 with 1 Axes>"
            ]
          },
          "metadata": {
            "tags": [],
            "needs_background": "light"
          }
        }
      ]
    },
    {
      "cell_type": "markdown",
      "metadata": {
        "id": "cmR7HHjnYTGl"
      },
      "source": [
        "# **Plotting for C_UCI**"
      ]
    },
    {
      "cell_type": "code",
      "metadata": {
        "colab": {
          "base_uri": "https://localhost:8080/",
          "height": 339
        },
        "id": "qWCziFflYRJc",
        "outputId": "7e5199dc-d1ed-4c3e-d404-a5f3e559a1f1"
      },
      "source": [
        "test_df_c_uci=coherence_df[coherence_df['Coherence Type']=='c_uci'].reset_index(drop=True)\n",
        "test_df_c_uci.reset_index(drop=False,inplace=True)\n",
        "test_df_c_uci.plot(x='index',y='Coherence Value')\n",
        "test_df_c_uci[test_df_c_uci['Coherence Value']==test_df_c_uci['Coherence Value'].max()]"
      ],
      "execution_count": null,
      "outputs": [
        {
          "output_type": "execute_result",
          "data": {
            "text/html": [
              "<div>\n",
              "<style scoped>\n",
              "    .dataframe tbody tr th:only-of-type {\n",
              "        vertical-align: middle;\n",
              "    }\n",
              "\n",
              "    .dataframe tbody tr th {\n",
              "        vertical-align: top;\n",
              "    }\n",
              "\n",
              "    .dataframe thead th {\n",
              "        text-align: right;\n",
              "    }\n",
              "</style>\n",
              "<table border=\"1\" class=\"dataframe\">\n",
              "  <thead>\n",
              "    <tr style=\"text-align: right;\">\n",
              "      <th></th>\n",
              "      <th>index</th>\n",
              "      <th>Combination</th>\n",
              "      <th>Coherence Type</th>\n",
              "      <th>Coherence Value</th>\n",
              "    </tr>\n",
              "  </thead>\n",
              "  <tbody>\n",
              "    <tr>\n",
              "      <th>6</th>\n",
              "      <td>6</td>\n",
              "      <td>Perc90Topics20</td>\n",
              "      <td>c_uci</td>\n",
              "      <td>0.69337</td>\n",
              "    </tr>\n",
              "  </tbody>\n",
              "</table>\n",
              "</div>"
            ],
            "text/plain": [
              "   index     Combination Coherence Type  Coherence Value\n",
              "6      6  Perc90Topics20          c_uci          0.69337"
            ]
          },
          "metadata": {
            "tags": []
          },
          "execution_count": 45
        },
        {
          "output_type": "display_data",
          "data": {
            "image/png": "[encoded data removed]",
            "text/plain": [
              "<Figure size 432x288 with 1 Axes>"
            ]
          },
          "metadata": {
            "tags": [],
            "needs_background": "light"
          }
        }
      ]
    },
    {
      "cell_type": "markdown",
      "metadata": {
        "id": "BGAI-HNmY4-x"
      },
      "source": [
        "# **Plotting for U_MASS**"
      ]
    },
    {
      "cell_type": "code",
      "metadata": {
        "colab": {
          "base_uri": "https://localhost:8080/",
          "height": 339
        },
        "id": "WDbmxxbGYRCA",
        "outputId": "797b8b72-f5b5-4302-a26f-b30dc998b480"
      },
      "source": [
        "test_df_u_mass=coherence_df[coherence_df['Coherence Type']=='u_mass'].reset_index(drop=True)\n",
        "test_df_u_mass.reset_index(drop=False,inplace=True)\n",
        "test_df_u_mass.plot(x='index',y='Coherence Value')\n",
        "test_df_u_mass[test_df_u_mass['Coherence Value']==test_df_u_mass['Coherence Value'].max()]"
      ],
      "execution_count": null,
      "outputs": [
        {
          "output_type": "execute_result",
          "data": {
            "text/html": [
              "<div>\n",
              "<style scoped>\n",
              "    .dataframe tbody tr th:only-of-type {\n",
              "        vertical-align: middle;\n",
              "    }\n",
              "\n",
              "    .dataframe tbody tr th {\n",
              "        vertical-align: top;\n",
              "    }\n",
              "\n",
              "    .dataframe thead th {\n",
              "        text-align: right;\n",
              "    }\n",
              "</style>\n",
              "<table border=\"1\" class=\"dataframe\">\n",
              "  <thead>\n",
              "    <tr style=\"text-align: right;\">\n",
              "      <th></th>\n",
              "      <th>index</th>\n",
              "      <th>Combination</th>\n",
              "      <th>Coherence Type</th>\n",
              "      <th>Coherence Value</th>\n",
              "    </tr>\n",
              "  </thead>\n",
              "  <tbody>\n",
              "    <tr>\n",
              "      <th>4</th>\n",
              "      <td>4</td>\n",
              "      <td>Perc90Topics10</td>\n",
              "      <td>u_mass</td>\n",
              "      <td>-0.449078</td>\n",
              "    </tr>\n",
              "  </tbody>\n",
              "</table>\n",
              "</div>"
            ],
            "text/plain": [
              "   index     Combination Coherence Type  Coherence Value\n",
              "4      4  Perc90Topics10         u_mass        -0.449078"
            ]
          },
          "metadata": {
            "tags": []
          },
          "execution_count": 48
        },
        {
          "output_type": "display_data",
          "data": {
            "image/png": "[encoded data removed]",
            "text/plain": [
              "<Figure size 432x288 with 1 Axes>"
            ]
          },
          "metadata": {
            "tags": [],
            "needs_background": "light"
          }
        }
      ]
    },
    {
      "cell_type": "markdown",
      "metadata": {
        "id": "vWmMm-MMZhpr"
      },
      "source": [
        "# **Seeing which combination consistently performed well on the respective coherence measures**"
      ]
    },
    {
      "cell_type": "code",
      "metadata": {
        "colab": {
          "base_uri": "https://localhost:8080/",
          "height": 166
        },
        "id": "MsUQnSbsYQ-Z",
        "outputId": "f01b6a50-e0f6-4e6d-b517-a4df507eb025"
      },
      "source": [
        "final_test_df=pd.DataFrame(columns=['index','Combination','Coherence Type','Coherence Value'])\n",
        "final_test_df=pd.concat([final_test_df,\n",
        "                         test_df_u_mass[test_df_u_mass['Coherence Value']==test_df_u_mass['Coherence Value'].max()],\n",
        "                         test_df_c_uci[test_df_c_uci['Coherence Value']==test_df_c_uci['Coherence Value'].max()],\n",
        "                         test_df_c_npmi[test_df_c_npmi['Coherence Value']==test_df_c_npmi['Coherence Value'].max()],\n",
        "                         test_df_cv[test_df_cv['Coherence Value']==test_df_cv['Coherence Value'].max()]])\n",
        "final_test_df.reset_index(drop=True,inplace=True)\n",
        "final_test_df.drop(columns=['index'],inplace=True)\n",
        "final_test_df"
      ],
      "execution_count": null,
      "outputs": [
        {
          "output_type": "execute_result",
          "data": {
            "text/html": [
              "<div>\n",
              "<style scoped>\n",
              "    .dataframe tbody tr th:only-of-type {\n",
              "        vertical-align: middle;\n",
              "    }\n",
              "\n",
              "    .dataframe tbody tr th {\n",
              "        vertical-align: top;\n",
              "    }\n",
              "\n",
              "    .dataframe thead th {\n",
              "        text-align: right;\n",
              "    }\n",
              "</style>\n",
              "<table border=\"1\" class=\"dataframe\">\n",
              "  <thead>\n",
              "    <tr style=\"text-align: right;\">\n",
              "      <th></th>\n",
              "      <th>Combination</th>\n",
              "      <th>Coherence Type</th>\n",
              "      <th>Coherence Value</th>\n",
              "    </tr>\n",
              "  </thead>\n",
              "  <tbody>\n",
              "    <tr>\n",
              "      <th>0</th>\n",
              "      <td>Perc90Topics10</td>\n",
              "      <td>u_mass</td>\n",
              "      <td>-0.449078</td>\n",
              "    </tr>\n",
              "    <tr>\n",
              "      <th>1</th>\n",
              "      <td>Perc90Topics20</td>\n",
              "      <td>c_uci</td>\n",
              "      <td>0.693370</td>\n",
              "    </tr>\n",
              "    <tr>\n",
              "      <th>2</th>\n",
              "      <td>Perc90Topics20</td>\n",
              "      <td>c_npmi</td>\n",
              "      <td>0.077477</td>\n",
              "    </tr>\n",
              "    <tr>\n",
              "      <th>3</th>\n",
              "      <td>Perc90Topics20</td>\n",
              "      <td>c_v</td>\n",
              "      <td>0.588880</td>\n",
              "    </tr>\n",
              "  </tbody>\n",
              "</table>\n",
              "</div>"
            ],
            "text/plain": [
              "      Combination Coherence Type  Coherence Value\n",
              "0  Perc90Topics10         u_mass        -0.449078\n",
              "1  Perc90Topics20          c_uci         0.693370\n",
              "2  Perc90Topics20         c_npmi         0.077477\n",
              "3  Perc90Topics20            c_v         0.588880"
            ]
          },
          "metadata": {
            "tags": []
          },
          "execution_count": 53
        }
      ]
    },
    {
      "cell_type": "markdown",
      "metadata": {
        "id": "vI_omTmpbIGw"
      },
      "source": [
        "## **From the above table we can see that the coombination Perc90Topics20 yielded the best results**"
      ]
    },
    {
      "cell_type": "markdown",
      "metadata": {
        "id": "Gil2CTB4bT6Z"
      },
      "source": [
        "## **The topics yielded by the model Perc90Topics20 are**"
      ]
    },
    {
      "cell_type": "code",
      "metadata": {
        "colab": {
          "base_uri": "https://localhost:8080/"
        },
        "id": "yqjxNIZSYQ6o",
        "outputId": "ab8b6d0f-92eb-493d-a212-0dd8bde8c560"
      },
      "source": [
        "with open(dir_components['Perc90Topics20'][1],'r') as f:\n",
        "  for line in f.readlines():\n",
        "    print(line)"
      ],
      "execution_count": null,
      "outputs": [
        {
          "output_type": "stream",
          "text": [
            "0\t0.08027\tflow equation solution field function velocity variance head transport case cid coefficient dispersion problem element domain matrix approximation conductivity direction \n",
            "\n",
            "1\t0.04424\tfracture particle transport ﬂow permeability test experiment velocity pressure injection simulation porosity image point rock cell domain diffusion scale heterogeneity \n",
            "\n",
            "2\t0.06214\tflood distribution level probability variable ﬂood cluster variance event correlation series frequency estimator estimation duration threshold process moment curve statistic \n",
            "\n",
            "3\t0.05066\tconcentration rate transport source reaction stream adsorption mix column load solute sediment sorption nitrogen equilibrium nutrient doc ion tracer chloride \n",
            "\n",
            "4\t0.04246\tcost optimization design solution system constraint problem ascelibrary_org york_university download rights_reserve scenario management uncertainty fig pump plan objective objective_function reliability \n",
            "\n",
            "5\t0.02655\tconcentration exposure specie chemical risk sediment assessment toxicity fish test metal pesticide substance organism contaminant contamination compound population endpoint effect \n",
            "\n",
            "6\t0.04816\treservoir storage period operation release inflow volume stage dam demand rule energy fig capacity month year hydropower forecast power policy \n",
            "\n",
            "7\t0.0511\tsurface temperature figure snow lake soil_moisture evaporation depth vegetation heat flux canopy layer day wind ice radiation measurement image elevation \n",
            "\n",
            "8\t0.05042\tgroundwater area recharge aquifer zone table depth head age pump fig factor wetland unit layer spring seepage salinity response map \n",
            "\n",
            "9\t0.05119\tsite sample measurement pattern location sampling group probe monitoring monitor plot survey sensor sampler frequency turbidity collect signal density instrument \n",
            "\n",
            "10\t0.03428\tnetwork pipe node demand pressure control fig method tank leakage failure link pump sensor valve york_university ascelibrary_org download head leak \n",
            "\n",
            "11\t0.0286\twater demand cost price supply household consumption allocation transfer user benefit market sector utility policy pay city service income conservation \n",
            "\n",
            "12\t0.05859\tmanagement project policy criterion state risk indicator plan quality program water_quality community decision development resource stakeholder alternative issue assessment index \n",
            "\n",
            "13\t0.05153\tsoil depth saturation phase infiltration pressure air layer gas experiment drainage profile water_content root column curve sand conductivity pore field \n",
            "\n",
            "14\t0.03499\ttreatment concentration removal wastewater sludge reactor plant cod bacteria membrane day solid cell substrate biomass degradation nitrogen efﬂuent phase waste \n",
            "\n",
            "15\t0.05519\tprecipitation year climate region station drought basin change trend period month temperature rainfall index streamﬂow runoff season forecast summer variability \n",
            "\n",
            "16\t0.05364\tmodel parameter estimate error uncertainty calibration prediction input datum observation simulation performance forecast estimation output predict calibrate sensitivity forecasting simulate \n",
            "\n",
            "17\t0.04685\tirrigation scenario crop basin impact land farmer yield salinity land_use farm production reduction canal fig type management availability agriculture pond \n",
            "\n",
            "18\t0.05609\tdischarge stream river ﬂow sediment flow bed velocity channel reach depth transport stress slope run particle experiment wave streambe exchange \n",
            "\n",
            "19\t0.05492\trainfall catchment runoff event storm scale response soil slope watershed basin hillslope peak forest rain ﬂow landscape watershe dynamic precipitation \n",
            "\n"
          ],
          "name": "stdout"
        }
      ]
    },
    {
      "cell_type": "code",
      "metadata": {
        "colab": {
          "base_uri": "https://localhost:8080/"
        },
        "id": "njF4LTpvYQ2S",
        "outputId": "59062159-9ad4-4531-af59-6d51c8e6eff8"
      },
      "source": [
        "with open(dir_components['Perc90Topics20'][0],'rb') as f:\n",
        "  model=pickle.load(f)\n",
        "pprint(model.print_topics(num_topics=20, num_words=10))"
      ],
      "execution_count": null,
      "outputs": [
        {
          "output_type": "stream",
          "text": [
            "[(0,\n",
            "  '0.141*\"flow\" + 0.068*\"equation\" + 0.032*\"solution\" + 0.029*\"field\" + '\n",
            "  '0.016*\"function\" + 0.013*\"velocity\" + 0.013*\"variance\" + 0.012*\"head\" + '\n",
            "  '0.011*\"transport\" + 0.010*\"case\"'),\n",
            " (1,\n",
            "  '0.053*\"fracture\" + 0.034*\"particle\" + 0.030*\"transport\" + 0.029*\"ﬂow\" + '\n",
            "  '0.023*\"permeability\" + 0.022*\"test\" + 0.020*\"experiment\" + 0.018*\"velocity\" '\n",
            "  '+ 0.015*\"pressure\" + 0.015*\"injection\"'),\n",
            " (2,\n",
            "  '0.051*\"flood\" + 0.048*\"distribution\" + 0.042*\"level\" + 0.027*\"probability\" '\n",
            "  '+ 0.019*\"variable\" + 0.017*\"ﬂood\" + 0.017*\"cluster\" + 0.013*\"variance\" + '\n",
            "  '0.012*\"event\" + 0.012*\"correlation\"'),\n",
            " (3,\n",
            "  '0.135*\"concentration\" + 0.039*\"rate\" + 0.030*\"transport\" + 0.029*\"source\" + '\n",
            "  '0.019*\"reaction\" + 0.017*\"stream\" + 0.015*\"adsorption\" + 0.014*\"mix\" + '\n",
            "  '0.014*\"column\" + 0.013*\"load\"'),\n",
            " (4,\n",
            "  '0.063*\"cost\" + 0.042*\"optimization\" + 0.041*\"design\" + 0.037*\"solution\" + '\n",
            "  '0.037*\"system\" + 0.026*\"constraint\" + 0.024*\"problem\" + '\n",
            "  '0.022*\"ascelibrary_org\" + 0.022*\"york_university\" + 0.022*\"download\"'),\n",
            " (5,\n",
            "  '0.032*\"concentration\" + 0.030*\"exposure\" + 0.025*\"specie\" + '\n",
            "  '0.024*\"chemical\" + 0.022*\"risk\" + 0.019*\"sediment\" + 0.019*\"assessment\" + '\n",
            "  '0.016*\"toxicity\" + 0.014*\"fish\" + 0.014*\"test\"'),\n",
            " (6,\n",
            "  '0.121*\"reservoir\" + 0.077*\"storage\" + 0.040*\"period\" + 0.031*\"operation\" + '\n",
            "  '0.030*\"release\" + 0.029*\"inflow\" + 0.029*\"volume\" + 0.025*\"stage\" + '\n",
            "  '0.024*\"dam\" + 0.019*\"demand\"'),\n",
            " (7,\n",
            "  '0.086*\"surface\" + 0.084*\"temperature\" + 0.071*\"figure\" + 0.032*\"snow\" + '\n",
            "  '0.030*\"lake\" + 0.027*\"soil_moisture\" + 0.021*\"evaporation\" + 0.013*\"depth\" '\n",
            "  '+ 0.012*\"vegetation\" + 0.011*\"heat\"'),\n",
            " (8,\n",
            "  '0.165*\"groundwater\" + 0.042*\"area\" + 0.040*\"recharge\" + 0.029*\"aquifer\" + '\n",
            "  '0.028*\"zone\" + 0.016*\"table\" + 0.016*\"depth\" + 0.015*\"head\" + 0.015*\"age\" + '\n",
            "  '0.014*\"pump\"'),\n",
            " (9,\n",
            "  '0.157*\"site\" + 0.156*\"sample\" + 0.063*\"measurement\" + 0.032*\"pattern\" + '\n",
            "  '0.026*\"location\" + 0.022*\"sampling\" + 0.019*\"group\" + 0.011*\"probe\" + '\n",
            "  '0.009*\"monitoring\" + 0.008*\"monitor\"'),\n",
            " (10,\n",
            "  '0.129*\"network\" + 0.060*\"pipe\" + 0.036*\"node\" + 0.027*\"demand\" + '\n",
            "  '0.027*\"pressure\" + 0.025*\"control\" + 0.025*\"fig\" + 0.020*\"method\" + '\n",
            "  '0.018*\"tank\" + 0.013*\"leakage\"'),\n",
            " (11,\n",
            "  '0.208*\"water\" + 0.044*\"demand\" + 0.033*\"cost\" + 0.025*\"price\" + '\n",
            "  '0.023*\"supply\" + 0.016*\"household\" + 0.015*\"consumption\" + '\n",
            "  '0.013*\"allocation\" + 0.012*\"transfer\" + 0.012*\"user\"'),\n",
            " (12,\n",
            "  '0.028*\"management\" + 0.017*\"project\" + 0.013*\"policy\" + 0.013*\"criterion\" + '\n",
            "  '0.012*\"state\" + 0.012*\"risk\" + 0.011*\"indicator\" + 0.009*\"plan\" + '\n",
            "  '0.009*\"quality\" + 0.008*\"program\"'),\n",
            " (13,\n",
            "  '0.208*\"soil\" + 0.026*\"depth\" + 0.026*\"saturation\" + 0.024*\"phase\" + '\n",
            "  '0.019*\"infiltration\" + 0.015*\"pressure\" + 0.015*\"air\" + 0.014*\"layer\" + '\n",
            "  '0.014*\"gas\" + 0.013*\"experiment\"'),\n",
            " (14,\n",
            "  '0.035*\"treatment\" + 0.033*\"concentration\" + 0.031*\"removal\" + '\n",
            "  '0.024*\"wastewater\" + 0.019*\"sludge\" + 0.019*\"reactor\" + 0.019*\"plant\" + '\n",
            "  '0.017*\"cod\" + 0.012*\"bacteria\" + 0.009*\"membrane\"'),\n",
            " (15,\n",
            "  '0.078*\"precipitation\" + 0.066*\"year\" + 0.044*\"climate\" + 0.039*\"region\" + '\n",
            "  '0.037*\"station\" + 0.034*\"drought\" + 0.027*\"basin\" + 0.026*\"change\" + '\n",
            "  '0.025*\"trend\" + 0.018*\"period\"'),\n",
            " (16,\n",
            "  '0.253*\"model\" + 0.067*\"parameter\" + 0.041*\"estimate\" + 0.035*\"error\" + '\n",
            "  '0.033*\"uncertainty\" + 0.022*\"calibration\" + 0.020*\"prediction\" + '\n",
            "  '0.015*\"input\" + 0.015*\"datum\" + 0.014*\"observation\"'),\n",
            " (17,\n",
            "  '0.097*\"irrigation\" + 0.079*\"scenario\" + 0.051*\"crop\" + 0.046*\"basin\" + '\n",
            "  '0.036*\"impact\" + 0.024*\"land\" + 0.019*\"farmer\" + 0.018*\"yield\" + '\n",
            "  '0.017*\"salinity\" + 0.014*\"land_use\"'),\n",
            " (18,\n",
            "  '0.068*\"discharge\" + 0.063*\"stream\" + 0.052*\"river\" + 0.045*\"ﬂow\" + '\n",
            "  '0.044*\"sediment\" + 0.038*\"flow\" + 0.027*\"bed\" + 0.027*\"velocity\" + '\n",
            "  '0.025*\"channel\" + 0.017*\"reach\"'),\n",
            " (19,\n",
            "  '0.073*\"rainfall\" + 0.062*\"catchment\" + 0.054*\"runoff\" + 0.037*\"event\" + '\n",
            "  '0.034*\"storm\" + 0.028*\"scale\" + 0.023*\"response\" + 0.021*\"soil\" + '\n",
            "  '0.020*\"slope\" + 0.018*\"watershed\"')]\n"
          ],
          "name": "stdout"
        }
      ]
    }
  ]
}